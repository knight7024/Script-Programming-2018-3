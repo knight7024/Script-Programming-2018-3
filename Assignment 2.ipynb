{
 "cells": [
  {
   "cell_type": "markdown",
   "metadata": {},
   "source": [
    "### 일반 연습 문제"
   ]
  },
  {
   "cell_type": "markdown",
   "metadata": {},
   "source": [
    "1) 다음 6 개의 Expression에 대해 Evaluation 결과 값을 출력하고, 해당 결과가 나온 이유에 대해 설명하시오"
   ]
  },
  {
   "cell_type": "markdown",
   "metadata": {},
   "source": [
    "*and 연산: 참·거짓을 판별하기 위해서는 앞·뒤의 값을 모두 확인해야 하므로 마지막으로 평가하는 값은 뒤가 된다.<br>\n",
    "or 연산: 앞의 값이 이미 참인 경우에는 참이므로 뒤를 확인하지 않아도 된다. 이 때는 마지막으로 평가하는 값은 앞이 된다. 반대의 경우에는 마지막으로 평가한 값은 뒤가 된다.*"
   ]
  },
  {
   "cell_type": "markdown",
   "metadata": {},
   "source": [
    "* 1 and 2 and 3 and 4"
   ]
  },
  {
   "cell_type": "code",
   "execution_count": 1,
   "metadata": {},
   "outputs": [
    {
     "name": "stdout",
     "output_type": "stream",
     "text": [
      "4\n"
     ]
    }
   ],
   "source": [
    "print(1 and 2 and 3 and 4)"
   ]
  },
  {
   "cell_type": "markdown",
   "metadata": {},
   "source": [
    "1 and 2는 and 연산이므로 마지막에 평가한 2를 반환한다. 그럼 이어서 2 and 3을 연산하는데 앞과 마찬가지로 3을 반환한다. 그렇게 마지막에 와서는 3 and 4를 연산하고 마지막에 평가한 값인 4를 반환한다."
   ]
  },
  {
   "cell_type": "markdown",
   "metadata": {},
   "source": [
    "* 1 or 2 or 3 or 4"
   ]
  },
  {
   "cell_type": "code",
   "execution_count": 6,
   "metadata": {},
   "outputs": [
    {
     "name": "stdout",
     "output_type": "stream",
     "text": [
      "1\n"
     ]
    }
   ],
   "source": [
    "print(1 or 2 or 3 or 4)"
   ]
  },
  {
   "cell_type": "markdown",
   "metadata": {},
   "source": [
    "1과 2와 3과 4는 모두 true 값이고 or 연산을 하기 때문에 뒤를 확인할 필요가 없다. 1 or 2는 1, 1 or 3은 1, 1 or 4는 1이므로 1을 반환한다."
   ]
  },
  {
   "cell_type": "markdown",
   "metadata": {},
   "source": [
    "* 1 and 2 or 3 and 4"
   ]
  },
  {
   "cell_type": "code",
   "execution_count": 7,
   "metadata": {},
   "outputs": [
    {
     "name": "stdout",
     "output_type": "stream",
     "text": [
      "2\n"
     ]
    }
   ],
   "source": [
    "print(1 and 2 or 3 and 4)"
   ]
  },
  {
   "cell_type": "markdown",
   "metadata": {},
   "source": [
    "and의 우선순위가 or보다 높으므로 순서대로 연산하면, 1 and 2는 2, 3 and 4는 4, 2 or 4는 2로 최종적으로 2를 반환한다."
   ]
  },
  {
   "cell_type": "markdown",
   "metadata": {},
   "source": [
    "* (1 and 2) or (3 and 4)"
   ]
  },
  {
   "cell_type": "code",
   "execution_count": 8,
   "metadata": {},
   "outputs": [
    {
     "name": "stdout",
     "output_type": "stream",
     "text": [
      "2\n"
     ]
    }
   ],
   "source": [
    "print((1 and 2) or (3 and 4))"
   ]
  },
  {
   "cell_type": "markdown",
   "metadata": {},
   "source": [
    "괄호의 우선순위가 제일 높기 때문에 1 and 2의 반환값 2와 3 and 4의 반환값 4를 or 연산하여 2를 반환한다."
   ]
  },
  {
   "cell_type": "markdown",
   "metadata": {},
   "source": [
    "* 1 or 2 and 3 or 4"
   ]
  },
  {
   "cell_type": "code",
   "execution_count": 9,
   "metadata": {},
   "outputs": [
    {
     "name": "stdout",
     "output_type": "stream",
     "text": [
      "1\n"
     ]
    }
   ],
   "source": [
    "print(1 or 2 and 3 or 4)"
   ]
  },
  {
   "cell_type": "markdown",
   "metadata": {},
   "source": [
    "and의 우선순위가 or보다 높으므로 순서대로 연산하면, 2 and 3은 3, 1 or 3은 1, 1 or 4는 1로 최종적으로 1을 반환한다."
   ]
  },
  {
   "cell_type": "markdown",
   "metadata": {},
   "source": [
    "* (1 or 2) and (3 or 4)"
   ]
  },
  {
   "cell_type": "code",
   "execution_count": 10,
   "metadata": {},
   "outputs": [
    {
     "name": "stdout",
     "output_type": "stream",
     "text": [
      "3\n"
     ]
    }
   ],
   "source": [
    "print((1 or 2) and (3 or 4))"
   ]
  },
  {
   "cell_type": "markdown",
   "metadata": {},
   "source": [
    "괄호의 우선순위가 제일 높기 때문에 1 or 2의 반환값 1과 3 or 4의 반환값 3을 and 연산하여 3을 반환한다."
   ]
  },
  {
   "cell_type": "markdown",
   "metadata": {},
   "source": [
    "<hr>"
   ]
  },
  {
   "cell_type": "markdown",
   "metadata": {},
   "source": [
    "2) 경로에 해당하는 문자열 1개를 입력 받아 그 안에 디렉토리 경로명과 파일명을 분리하여 리스트로 반환하는 함수 div_path(s)를 작성하시오.\n",
    "\n",
    "* 인자로 전달하는 문자열은 경로만 들어간다고 가정한다.\n",
    "* 각 디렉토리와 파일을 구분하는 문자는 '/'로 가정한다.\n",
    "* 반환하는 리스트의 첫번째 원소는 디렉토리이고 두번째 원소는 파일명이다.\n",
    "* 다음과 같은 실행 및 출력 결과가 도출되어야 한다.\n",
    "    * div_path('/usr/local/bin/python')\n",
    "        * ['/usr/local/bin', 'python']\n",
    "    * div_path('/home/chulsoo/test.txt')\n",
    "        * ['/home/chulsoo', 'test.txt']\n",
    "* [참고] 리스트(l) 내에 새로운 정수값 (예를 들어 10)을 넣는 방법은 l.append(10) 이다."
   ]
  },
  {
   "cell_type": "code",
   "execution_count": 34,
   "metadata": {},
   "outputs": [],
   "source": [
    "def div_path(s):\n",
    "    rtnList = []\n",
    "    rtnList.append('/'.join(s.split('/')[:-1]))\n",
    "    rtnList.append(s.split('/')[-1])\n",
    "    return rtnList"
   ]
  },
  {
   "cell_type": "code",
   "execution_count": 35,
   "metadata": {},
   "outputs": [
    {
     "name": "stdout",
     "output_type": "stream",
     "text": [
      "['/usr/local/bin', 'python']\n",
      "['/home/chulsoo', 'test.txt']\n"
     ]
    }
   ],
   "source": [
    "print(div_path('/usr/local/bin/python'))\n",
    "print(div_path('/home/chulsoo/test.txt'))"
   ]
  },
  {
   "cell_type": "markdown",
   "metadata": {},
   "source": [
    "경로를 '/' 기준으로 파싱한다. 쪼개진 리스트들을 슬라이싱과 join 메소드를 이용하여 '/'로 연결된 문자열로 변환하여 rtnList에 추가한다. 그리고 파일명도 슬라이싱하여 rtnList에 추가한 후 반환한다."
   ]
  },
  {
   "cell_type": "markdown",
   "metadata": {},
   "source": [
    "<hr>"
   ]
  },
  {
   "cell_type": "markdown",
   "metadata": {},
   "source": [
    "3) 두 개의 리스트를 인자로 받아서 그 두 개의 리스트에 대한 '합집합'을 반환하는 함수 list_union(lista, listb)를 작성하시오.\n",
    "\n",
    "* 인자로 전달하는 리스트 2 개에는 정수값만 들어간다고 가정하자.\n",
    "* 함수 내에서 새로운 리스트를 만들어 그 리스트 내에 인자로 받은 두 리스트의 모든 원소를 넣어 반환한다.\n",
    "* 반환하는 리스트에는 절대로 중복된 원소가 들어 있으면 안된다 (집합의 조건).\n",
    "* 반환하는 리스트는 정렬이 되어 있어야 한다.\n",
    "* 다음과 같은 실행 및 출력 결과가 도출되어야 한다.\n",
    "    * list_union([1, 2, 3], [1, 2, 4])\n",
    "        * [1, 2, 3, 4]\n",
    "    * list_union([-10, -5, 0, -1], [100, 9, 0, 9])\n",
    "        * [-10, -5, -1, 0, 9, 100]\n",
    "    * list_union([0, 1, 2], [0, 1, 2])\n",
    "        * [0, 1, 2]\n",
    "* [참고] 리스트(l) 내에 새로운 정수값 (예를 들어 10)을 넣는 방법은 l.append(10) 이다.\n",
    "* [참고] 임의의 정수값 (x)이 리스트 (l) 내에 존재하는지 판단하는 방법은 x in l 이다."
   ]
  },
  {
   "cell_type": "code",
   "execution_count": 50,
   "metadata": {},
   "outputs": [],
   "source": [
    "def list_union(lista, listb):\n",
    "    rtnList = []\n",
    "    for i in range(0, len(lista)): rtnList.append(lista[i])\n",
    "    for i in range(0, len(listb)):\n",
    "        if listb[i] not in rtnList:\n",
    "            rtnList.append(listb[i])\n",
    "    rtnList.sort()\n",
    "    return rtnList"
   ]
  },
  {
   "cell_type": "code",
   "execution_count": 51,
   "metadata": {},
   "outputs": [
    {
     "name": "stdout",
     "output_type": "stream",
     "text": [
      "[1, 2, 3, 4]\n",
      "[-10, -5, -1, 0, 9, 100]\n",
      "[0, 1, 2]\n"
     ]
    }
   ],
   "source": [
    "print(list_union([1, 2, 3], [1, 2, 4]))\n",
    "print(list_union([-10, -5, 0, -1], [100, 9, 0, 9]))\n",
    "print(list_union([0, 1, 2], [0, 1, 2]))"
   ]
  },
  {
   "cell_type": "markdown",
   "metadata": {},
   "source": [
    "lista의 항목들을 먼저 rtnList에 추가하고, listb의 항목들은 rtnList에 존재하는지 검사하며 추가한다.<br>\n",
    "마지막에는 rtnList를 정렬하고 반환한다."
   ]
  },
  {
   "cell_type": "markdown",
   "metadata": {},
   "source": [
    "### ACM-ICPC 문제"
   ]
  },
  {
   "cell_type": "markdown",
   "metadata": {},
   "source": [
    "1) [ACM-ICPC 문제 10809번]\n",
    "* 알파벳 찾기<br>[https://www.acmicpc.net/problem/10809](https://www.acmicpc.net/problem/10809)"
   ]
  },
  {
   "cell_type": "code",
   "execution_count": 12,
   "metadata": {},
   "outputs": [
    {
     "name": "stdout",
     "output_type": "stream",
     "text": [
      "baekjoon\n",
      "1 0 -1 -1 2 -1 -1 -1 -1 4 3 -1 -1 7 5 -1 -1 -1 -1 -1 -1 -1 -1 -1 -1 -1 "
     ]
    }
   ],
   "source": [
    "alpha = input()\n",
    "count = []\n",
    "for i in range(0, 26): count.append(-1)\n",
    "for i in range(0, len(alpha)):\n",
    "    if count[ord(alpha[i]) - ord('a')] == -1: count[ord(alpha[i]) - ord('a')] = i\n",
    "for i in range(0, 26): print(count[i], end=' ')"
   ]
  },
  {
   "cell_type": "markdown",
   "metadata": {},
   "source": [
    "알파벳 개수만큼 배열을 만들고 -1로 초기화 시켜준다. 그리고 문자열을 처음부터 읽으면서 알파벳이 나온 위치를 배열에 저장해준다."
   ]
  },
  {
   "cell_type": "markdown",
   "metadata": {},
   "source": [
    "![](https://raw.githubusercontent.com/knight7024/Script-Programming-2018-3/master/Assignment_2_1.PNG \"1번\")"
   ]
  },
  {
   "cell_type": "markdown",
   "metadata": {},
   "source": [
    "1) [ACM-ICPC 문제 2675번]\n",
    "* 문자열 반복<br>[https://www.acmicpc.net/problem/2675](https://www.acmicpc.net/problem/2675)"
   ]
  },
  {
   "cell_type": "code",
   "execution_count": 15,
   "metadata": {},
   "outputs": [
    {
     "name": "stdout",
     "output_type": "stream",
     "text": [
      "2\n",
      "3 ABC\n",
      "AAABBBCCC\n",
      "5 /HTP\n",
      "/////HHHHHTTTTTPPPPP\n"
     ]
    }
   ],
   "source": [
    "T = int(input())\n",
    "while T:\n",
    "    N1, N2 = input().split()\n",
    "    for i in range(0, len(N2)):\n",
    "        for j in range(0, int(N1)):\n",
    "            print(N2[i], end='')\n",
    "    print()\n",
    "    T = T - 1"
   ]
  },
  {
   "cell_type": "markdown",
   "metadata": {},
   "source": [
    "이중 반복문을 이용하여 문자열에서 각 단어를 반복해서 출력한다."
   ]
  },
  {
   "cell_type": "markdown",
   "metadata": {},
   "source": [
    "![](https://raw.githubusercontent.com/knight7024/Script-Programming-2018-3/master/Assignment_2_2.PNG \"2번\")"
   ]
  },
  {
   "cell_type": "markdown",
   "metadata": {},
   "source": [
    "### Incremental Project 문제"
   ]
  },
  {
   "cell_type": "markdown",
   "metadata": {},
   "source": [
    "1) 웹 URL로 지정된 웹페이지를 문자열로 가져와 1) 모든 HTML 태그를 제외한 순수 텍스트 문자열만을 걸러내고, 2) 그 순수 텍스트 문자열 안에 존재하는 단어가 총 몇개인지 출력하는 프로그램을 작성하시오.\n",
    "* HTML 태그는 다음 조건을 가지는 것이다.\n",
    "    * < 로 시작하여 >로 끝난다.\n",
    "    * 예를 들어, 아래와 같은 HTML 내용 내에 한 줄이 있다고 가정하자.\n",
    "    ~~~\n",
    "    <label for=\"keep_signed\">로그인 유지</label>\n",
    "    ~~~\n",
    "    * 위 소스에서 HTML 태그를 제외한 순수 텍스트 문자열은 아래와 같다.\n",
    "\n",
    "    로그인 유지<br><br>\n",
    "\n",
    "    * 한편, 아래와 같은 HTML 한 줄이 있다고 가정하자.\n",
    "    ~~~\n",
    "    <link rel=\"stylesheet\" href=\"/common/css/xe.min.css?20150910092654\" />\n",
    "    ~~~\n",
    "\n",
    "    * 위 한 줄은 HTML 태그로만 구성된 것이며 걸러낼 수 있는 순수 텍스 문자열은 존재하지 않는다.\n",
    "\n",
    "    * 단어를 나누는 기준은 오로지 공백문자 (whitespace)이다.\n",
    "        * 즉, 위 순수 텍스트 문자열인 \"로그인 유지\"에서 분리한 단어는 \"로그인\"과 \"유지\"이다.\n",
    "    * 중복을 고려하지 않고 무조건 모든 단어의 개수를 세어서 출력한다.\n",
    "    * 본 숙제를 위하여 HTML 파싱과 관련된 모듈 (예. BeautifulSoup) 사용 금지\n",
    "    * 다음은 URL로 지정된 웹페이지를 특정 문자열로 가져오는 코드이다.\n",
    "        * 즉, 숙제 코드는 아래 코드로 부터 시작해야 한다.\n",
    "        * 아래 코드 수행시 requests 모듈이 존재하지 않는 에러가 발생하면 command 창에서 다음 코드 입력하여 requests 모듈 설치후 아래 코드 수행\n",
    "        ~~~\n",
    "        > pip install requests\n",
    "        ~~~\n",
    "\n"
   ]
  },
  {
   "cell_type": "code",
   "execution_count": 103,
   "metadata": {
    "scrolled": true
   },
   "outputs": [],
   "source": [
    "import requests\n",
    "import re\n",
    "req = requests.get('http://cse.koreatech.ac.kr')\n",
    "source = req.text"
   ]
  },
  {
   "cell_type": "code",
   "execution_count": 107,
   "metadata": {
    "scrolled": false
   },
   "outputs": [
    {
     "name": "stdout",
     "output_type": "stream",
     "text": [
      "221\n"
     ]
    }
   ],
   "source": [
    "line = source.split('\\n')\n",
    "regex = re.compile('>.*?<')\n",
    "words = 0\n",
    "for i in range(0, len(line)):\n",
    "    g = regex.search(line[i])\n",
    "    if g != None:\n",
    "        tempG = g.group()[1:-1];\n",
    "        if tempG.strip() == '': continue\n",
    "        words = words + len(tempG.split(' '))\n",
    "        #print(tempG, len(tempG.split(' ')))\n",
    "print(words)"
   ]
  },
  {
   "cell_type": "markdown",
   "metadata": {},
   "source": [
    "개행문자로 파싱하여 한 줄씩 불러온 후에 HTML 태그의 Value는 <??>와 </??> 사이에 있다는 규칙에 기반하여 정규식으로 >와 < 사이의 값들을 모두 찾아온다. <br>\n",
    "그리고 >와 <를 지우기 위해 슬라이싱 하고 혹시나 존재할 여백을 지우기 위해 strip 메소드를 사용한다. <br>\n",
    "빈 값들은 넘어가고 나머지 값들의 단어 개수를 확인하기 위해 공백을 기준으로 파싱한 후 리스트의 길이를 잰다.<br>\n",
    "길이를 모두 더한 값이 HTML Tag의 Value의 단어의 개수이다."
   ]
  },
  {
   "cell_type": "markdown",
   "metadata": {},
   "source": [
    "### 과제 소감 :\n",
    "파이썬의 성질에 대해 적응 중이다. 기존에 사용하던 다른 언어로는 쉽게 만들 수 있지만 파이썬으로 컨버팅하자니 눈앞이 캄캄했다. 하지만 메소드들이 간단하고 이해하기 편해서 생각 외로 시간이 오래 걸리지는 않은 듯 하다."
   ]
  }
 ],
 "metadata": {
  "kernelspec": {
   "display_name": "Python 3",
   "language": "python",
   "name": "python3"
  },
  "language_info": {
   "codemirror_mode": {
    "name": "ipython",
    "version": 3
   },
   "file_extension": ".py",
   "mimetype": "text/x-python",
   "name": "python",
   "nbconvert_exporter": "python",
   "pygments_lexer": "ipython3",
   "version": "3.6.5"
  }
 },
 "nbformat": 4,
 "nbformat_minor": 2
}
