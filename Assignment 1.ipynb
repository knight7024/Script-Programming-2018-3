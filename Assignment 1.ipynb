{
 "cells": [
  {
   "cell_type": "markdown",
   "metadata": {},
   "source": [
    "1. a=\"Hello Python\" 문자열을 Slicing과 연결 연산자 (+)를 사용하여 \"Python Hello\"로 변경하시오.\n",
    "    * [주의] a 변수 자체에 \"Python Hello\" 문자열이 저장되어야 함"
   ]
  },
  {
   "cell_type": "code",
   "execution_count": 46,
   "metadata": {},
   "outputs": [
    {
     "name": "stdout",
     "output_type": "stream",
     "text": [
      "Python Hello \n"
     ]
    }
   ],
   "source": [
    "a = \"Hello Python\"\n",
    "a = a[6:] + ' ' + a[:6]\n",
    "print(a)"
   ]
  },
  {
   "cell_type": "markdown",
   "metadata": {},
   "source": [
    "a의 6번째 인덱스부터 끝까지 슬라이싱(\"Python\")한 후에 처음부터 5번째까지 슬라이싱(\"Hello\")한 결과를 연결 연산자를 통해 이어붙인다.\n",
    "\n",
    "즉, \"Python Hello\"가 된다."
   ]
  },
  {
   "cell_type": "markdown",
   "metadata": {},
   "source": [
    "1. b=\"Hello Python World\" 문자열을 Slicing과 연결 연산자 (+)를 사용하여 \"World Python Hello\"로 변경하시오.\n",
    "    * [주의] b 변수 자체에 \"World Python Hello\" 문자열이 저장되어야 함"
   ]
  },
  {
   "cell_type": "code",
   "execution_count": 50,
   "metadata": {
    "scrolled": true
   },
   "outputs": [
    {
     "name": "stdout",
     "output_type": "stream",
     "text": [
      "World Python Hello \n"
     ]
    }
   ],
   "source": [
    "b = \"Hello Python World\"\n",
    "b = b[13:] + ' ' + b[6:13] + b[:6]\n",
    "print(b)"
   ]
  },
  {
   "cell_type": "markdown",
   "metadata": {},
   "source": [
    "b의 13번째 인덱스부터 끝까지 슬라이싱(\"World\")한 후에 6번째부터 12번째까지 슬라이싱(\"Python\")한 결과와 처음부터 5번째까지 슬라이싱(\"Hello\")한 결과를 연결 연산자를 통해 이어붙인다.\n",
    "\n",
    "즉, \"World Python Hello\"가 된다."
   ]
  },
  {
   "cell_type": "markdown",
   "metadata": {},
   "source": [
    "1. c=\"Hello\"를 \"olleH\"로 변경하시오\n",
    "    * [주의] c 변수 자체에 \"olleH\" 문자열이 저장되어야 함"
   ]
  },
  {
   "cell_type": "code",
   "execution_count": 51,
   "metadata": {},
   "outputs": [
    {
     "name": "stdout",
     "output_type": "stream",
     "text": [
      "olleH\n"
     ]
    }
   ],
   "source": [
    "c = \"Hello\"\n",
    "c = c[::-1]\n",
    "print(c)"
   ]
  },
  {
   "cell_type": "markdown",
   "metadata": {},
   "source": [
    "c를 처음부터 끝까지 슬라이싱하는데 step이 -1이여서 뒤에서부터 슬라이싱된다.\n",
    "\n",
    "즉, c를 뒤집은 것과 같이 \"olleH\"가 된다."
   ]
  },
  {
   "cell_type": "markdown",
   "metadata": {},
   "source": [
    "1. s=\"python\"에 대해 다음 문제를 풀어보시오.\n",
    "    1. s[0], s[0][0], s[0][0][0]은 각각 어떤 값이 나오는지 확인하고 그 이유를 나름대로 설명해 보시오.\n",
    "    1. s[-100], s[100]은 값이 나오는지 에러가 나오는지 확인하고 그 결과에 대한 이유를 나름대로 설명해 보시오.\n",
    "    1. s[-100, 100]은 값이 나오는지 에러가 나오는지 확인하고 그 결과에 대한 이유를 나름대로 설명해 보시오.\n",
    "    1. s[1:-1]의 결과를 확인하고 그 결과에 대한 이유를 정확하게 설명하시오.\n",
    "    1. s[3:-3]의 결과를 확인하고 그 결과에 대한 이유를 정확하게 설명하시오."
   ]
  },
  {
   "cell_type": "code",
   "execution_count": 64,
   "metadata": {},
   "outputs": [
    {
     "name": "stdout",
     "output_type": "stream",
     "text": [
      "p p p\n"
     ]
    }
   ],
   "source": [
    "s = \"python\"\n",
    "print(s[0], s[0][0], s[0][0][0])"
   ]
  },
  {
   "cell_type": "markdown",
   "metadata": {},
   "source": [
    "첫 번째에서 s[0]은 s라는 레퍼런스에서 첫 번째 위치를 가져오라는 뜻이므로 당연히 첫 번째 글자인 'p'를 출력한다.\n",
    "\n",
    "두 번째에서 s[0][0]은 s[0]라는 레퍼런스에서 첫 번째 위치를 가져오라는 뜻인데, s[0]은 위에서 말했듯이 'p'이다. 'p'의 첫 번째 위치는 'p'이므로 'p'를 출력한다.\n",
    "\n",
    "세 번째에서 s[0][0][0]은 s[0][0]라는 레퍼런스에서 첫 번째 위치를 가져오라는 뜻이다. 두 번째와 동일하게 s[0][0]은 'p'이므로 'p'의 첫 번째 위치인 'p'를 출력한다."
   ]
  },
  {
   "cell_type": "code",
   "execution_count": 55,
   "metadata": {},
   "outputs": [
    {
     "ename": "IndexError",
     "evalue": "string index out of range",
     "output_type": "error",
     "traceback": [
      "\u001b[1;31m---------------------------------------------------------------------------\u001b[0m",
      "\u001b[1;31mIndexError\u001b[0m                                Traceback (most recent call last)",
      "\u001b[1;32m<ipython-input-55-068a187d228b>\u001b[0m in \u001b[0;36m<module>\u001b[1;34m()\u001b[0m\n\u001b[0;32m      1\u001b[0m \u001b[0ms\u001b[0m \u001b[1;33m=\u001b[0m \u001b[1;34m\"python\"\u001b[0m\u001b[1;33m\u001b[0m\u001b[0m\n\u001b[1;32m----> 2\u001b[1;33m \u001b[0mprint\u001b[0m\u001b[1;33m(\u001b[0m\u001b[0ms\u001b[0m\u001b[1;33m[\u001b[0m\u001b[1;33m-\u001b[0m\u001b[1;36m100\u001b[0m\u001b[1;33m]\u001b[0m\u001b[1;33m,\u001b[0m \u001b[0ms\u001b[0m\u001b[1;33m[\u001b[0m\u001b[1;36m100\u001b[0m\u001b[1;33m]\u001b[0m\u001b[1;33m)\u001b[0m\u001b[1;33m\u001b[0m\u001b[0m\n\u001b[0m",
      "\u001b[1;31mIndexError\u001b[0m: string index out of range"
     ]
    }
   ],
   "source": [
    "s = \"python\"\n",
    "print(s[-100], s[100])"
   ]
  },
  {
   "cell_type": "markdown",
   "metadata": {},
   "source": [
    "s[-100]과 s[100]의 의미는 뒤에서부터 인덱스가 100인 부분과 앞에서부터 인덱스가 100인 부분을 반환하는 것이다.\n",
    "\n",
    "하지만 s는 \"python\"으로 길이가 6인 문자열이다.\n",
    "\n",
    "그러므로 뒤에서부터 100인 부분과 앞에서부터 100인 부분은 존재하지 않아 범위를 벗어났다는 오류를 출력한다."
   ]
  },
  {
   "cell_type": "code",
   "execution_count": 54,
   "metadata": {},
   "outputs": [
    {
     "ename": "TypeError",
     "evalue": "string indices must be integers",
     "output_type": "error",
     "traceback": [
      "\u001b[1;31m---------------------------------------------------------------------------\u001b[0m",
      "\u001b[1;31mTypeError\u001b[0m                                 Traceback (most recent call last)",
      "\u001b[1;32m<ipython-input-54-c5bf044844a8>\u001b[0m in \u001b[0;36m<module>\u001b[1;34m()\u001b[0m\n\u001b[0;32m      1\u001b[0m \u001b[0ms\u001b[0m \u001b[1;33m=\u001b[0m \u001b[1;34m\"python\"\u001b[0m\u001b[1;33m\u001b[0m\u001b[0m\n\u001b[1;32m----> 2\u001b[1;33m \u001b[0mprint\u001b[0m\u001b[1;33m(\u001b[0m\u001b[0ms\u001b[0m\u001b[1;33m[\u001b[0m\u001b[1;33m-\u001b[0m\u001b[1;36m100\u001b[0m\u001b[1;33m,\u001b[0m \u001b[1;36m100\u001b[0m\u001b[1;33m]\u001b[0m\u001b[1;33m)\u001b[0m\u001b[1;33m\u001b[0m\u001b[0m\n\u001b[0m",
      "\u001b[1;31mTypeError\u001b[0m: string indices must be integers"
     ]
    }
   ],
   "source": [
    "s = \"python\"\n",
    "print(s[-100, 100])"
   ]
  },
  {
   "cell_type": "markdown",
   "metadata": {},
   "source": [
    "문자열 슬라이싱의 형식은 [start(included) : stop(excluded) : step]으로 start와 stop, step은 모두 int형 정수여야 한다.\n",
    "\n",
    "하지만 -100, 100은 List의 형태이기 때문에 integer이 들어와야 한다는 오류를 출력한다."
   ]
  },
  {
   "cell_type": "code",
   "execution_count": 57,
   "metadata": {},
   "outputs": [
    {
     "name": "stdout",
     "output_type": "stream",
     "text": [
      "ytho\n"
     ]
    }
   ],
   "source": [
    "s = \"python\"\n",
    "print(s[1:-1])"
   ]
  },
  {
   "cell_type": "markdown",
   "metadata": {},
   "source": [
    "시작하는 인덱스가 1이고 (excluded 된) 마지막 인덱스가 -1이다.\n",
    "\n",
    "s에서 인덱스 1의 부분은 'y'이고 -1의 부분은 'n', 즉 'y'부터 'n' 이전까지라는 의미가 된다.\n",
    "\n",
    "즉, \"ytho\"가 된다."
   ]
  },
  {
   "cell_type": "code",
   "execution_count": 62,
   "metadata": {},
   "outputs": [
    {
     "name": "stdout",
     "output_type": "stream",
     "text": [
      "\n"
     ]
    }
   ],
   "source": [
    "s = \"python\"\n",
    "print(s[3:-3])"
   ]
  },
  {
   "cell_type": "markdown",
   "metadata": {},
   "source": [
    "시작하는 인덱스가 3이고 (excluded 된) 마지막 인덱스가 -3이다.\n",
    "\n",
    "s에서 인덱스 3의 부분은 'h'이고 -3의 부분은 '-3', 즉 'h'부터 'h' 이전까지라는 의미인데 두 부분이 똑같다.\n",
    "\n",
    "그러므로 아무것도 슬라이싱되지 않는다."
   ]
  },
  {
   "cell_type": "markdown",
   "metadata": {},
   "source": [
    "1. for문을 활용하여 1부터 100사이의 홀수를 출력하시오."
   ]
  },
  {
   "cell_type": "code",
   "execution_count": 69,
   "metadata": {
    "scrolled": true
   },
   "outputs": [
    {
     "name": "stdout",
     "output_type": "stream",
     "text": [
      "1, 3, 5, 7, 9, 11, 13, 15, 17, 19, 21, 23, 25, 27, 29, 31, 33, 35, 37, 39, 41, 43, 45, 47, 49, 51, 53, 55, 57, 59, 61, 63, 65, 67, 69, 71, 73, 75, 77, 79, 81, 83, 85, 87, 89, 91, 93, 95, 97, 99, "
     ]
    }
   ],
   "source": [
    "for i in range(1, 100, 2): print(i, end=', ')"
   ]
  },
  {
   "cell_type": "markdown",
   "metadata": {},
   "source": [
    "1부터 100까지 2씩 증가시켜 가며 출력한다. 이는 결국 홀수들만 출력하는 것과 마찬가지이다."
   ]
  },
  {
   "cell_type": "markdown",
   "metadata": {},
   "source": [
    "1. while문을 활용하여 1부터 100사이의 짝수의 합을 계산하여 출력하시오."
   ]
  },
  {
   "cell_type": "code",
   "execution_count": 3,
   "metadata": {},
   "outputs": [
    {
     "name": "stdout",
     "output_type": "stream",
     "text": [
      "2550\n"
     ]
    }
   ],
   "source": [
    "a = 0\n",
    "i = 0\n",
    "while i < 101:\n",
    "    if i % 2 == 0: a += i\n",
    "    i += 1\n",
    "print(a)"
   ]
  },
  {
   "cell_type": "markdown",
   "metadata": {},
   "source": [
    "i가 101을 넘어가기 전까지 짝수 여부를 판별하여 a에 더한다. a에는 1에서 100 사이의 짝수들의 합이 담긴다."
   ]
  },
  {
   "cell_type": "markdown",
   "metadata": {},
   "source": [
    "1. 사용자로 부터 임의의 정수를 입력받고, 해당 숫자를 역순으로 출력하는 프로그램을 작성하시오."
   ]
  },
  {
   "cell_type": "code",
   "execution_count": 70,
   "metadata": {
    "scrolled": true
   },
   "outputs": [
    {
     "name": "stdout",
     "output_type": "stream",
     "text": [
      "정수를 입력하세요: 123\n",
      "숫자 역순은 321 입니다.\n"
     ]
    }
   ],
   "source": [
    "a = int(input('정수를 입력하세요: '))\n",
    "b = 0\n",
    "print('숫자 역순은 ', end='')\n",
    "while a > 0:\n",
    "    b = b * 10 + a % 10\n",
    "    a = int(a / 10)\n",
    "print(b, end='')\n",
    "print(' 입니다.')"
   ]
  },
  {
   "cell_type": "markdown",
   "metadata": {},
   "source": [
    "a를 10으로 나눈 나머지 값들을 b에 10을 곱한 후 더한다. 그리고 a는 a를 10으로 나눈 몫으로 바꾼다.\n",
    "\n",
    "이를 예로 들어 설명하면,\n",
    "\n",
    "123이라는 숫자가 있을 때, 10으로 나눈 나머지는 3이므로 b는 0 x 10 + 3으로 3이 되고 a는 10으로 나눈 몫인 12가 된다.\n",
    "다음엔 12를 10으로 나눈 나머지 2, b는 3 x 10 + 2가 되어 32이고 a는 1이다.\n",
    "마지막으로 나머지 1, b는 32 x 10 + 1로 321이고 a는 0이다.\n",
    "\n",
    "결국 b는 a를 뒤집은 숫자가 된다."
   ]
  },
  {
   "cell_type": "markdown",
   "metadata": {},
   "source": [
    "1. 사용자로 부터 정수를 입력받아서 1부터 그 사이에 존재하는 소수 (Prime number)를 출력하는 파이썬 프로그램을 작성하시오."
   ]
  },
  {
   "cell_type": "code",
   "execution_count": 60,
   "metadata": {},
   "outputs": [
    {
     "name": "stdout",
     "output_type": "stream",
     "text": [
      "20\n",
      "2,3,5,7,11,13,17,19,"
     ]
    }
   ],
   "source": [
    "a = int(input())\n",
    "pn = []\n",
    "for i in range(0, a + 1): pn.append(1)\n",
    "for i in range(2, a + 1):\n",
    "    if pn[i] == 0: continue\n",
    "    for j in range(i * i, a + 1, i): pn[j] = 0\n",
    "for i in range(2, a + 1):\n",
    "    if pn[i]: print(i, end=',')"
   ]
  },
  {
   "cell_type": "markdown",
   "metadata": {},
   "source": [
    "에라토스테네스의 체를 이용하여 소수들을 구하였다."
   ]
  },
  {
   "cell_type": "markdown",
   "metadata": {},
   "source": [
    "1. [ACM-ICPC 문제 2441번]\n",
    "    * 별찍기-4"
   ]
  },
  {
   "cell_type": "code",
   "execution_count": 38,
   "metadata": {},
   "outputs": [
    {
     "name": "stdout",
     "output_type": "stream",
     "text": [
      "5\n",
      "*****\n",
      " ****\n",
      "  ***\n",
      "   **\n",
      "    *\n"
     ]
    }
   ],
   "source": [
    "a = int(input())\n",
    "for i in range(a, 0, -1):\n",
    "    for j in range(0, a - i):\n",
    "        print(' ', end='')\n",
    "    for j in range(0, i):\n",
    "        print('*', end='')\n",
    "    print()"
   ]
  },
  {
   "cell_type": "markdown",
   "metadata": {},
   "source": [
    "N번째 줄에는 (N - 1)개의 공백을 출력하고 나머지 칸에 별을 출력하면 된다."
   ]
  },
  {
   "cell_type": "markdown",
   "metadata": {},
   "source": [
    "![](https://raw.githubusercontent.com/knight7024/Script-Programming-2018-3/master/09-20-1.PNG \"1번\")"
   ]
  },
  {
   "cell_type": "markdown",
   "metadata": {},
   "source": [
    "1. [ACM-ICPC 문제 11721번] \n",
    "    * 열 개씩 끊어 출력하기"
   ]
  },
  {
   "cell_type": "code",
   "execution_count": 71,
   "metadata": {
    "scrolled": true
   },
   "outputs": [
    {
     "name": "stdout",
     "output_type": "stream",
     "text": [
      "OneTwoThreeFourFiveSixSevenEightNineTen\n",
      "OneTwoThre\n",
      "eFourFiveS\n",
      "ixSevenEig\n",
      "htNineTen"
     ]
    }
   ],
   "source": [
    "a = input()\n",
    "for i in range(len(a)):\n",
    "    print(a[i], end='')\n",
    "    if (i+1) % 10 == 0:print()"
   ]
  },
  {
   "cell_type": "markdown",
   "metadata": {},
   "source": [
    "입력받은 문자열의 길이만큼 반복문을 돌다가 현재 위치가 10번째의 배수인지 아닌지를 판단하여 공백을 출력한다."
   ]
  },
  {
   "cell_type": "markdown",
   "metadata": {},
   "source": [
    "![](https://raw.githubusercontent.com/knight7024/Script-Programming-2018-3/master/09-20-2.PNG \"2번\")"
   ]
  },
  {
   "cell_type": "markdown",
   "metadata": {},
   "source": [
    "1. [ACM-ICPC 문제 2839번]\n",
    "    * 설탕배달"
   ]
  },
  {
   "cell_type": "code",
   "execution_count": 41,
   "metadata": {},
   "outputs": [
    {
     "name": "stdout",
     "output_type": "stream",
     "text": [
      "18\n",
      "4\n"
     ]
    }
   ],
   "source": [
    "a = int(input())\n",
    "t = 0\n",
    "f = 0\n",
    "while a > 0 and a % 5:\n",
    "    a = a - 3\n",
    "    t = t + 1\n",
    "f = int(a / 5)\n",
    "if a < 0: print(-1)\n",
    "else: print(t + f)"
   ]
  },
  {
   "cell_type": "markdown",
   "metadata": {},
   "source": [
    "그리디하게 생각하면 5g의 설탕이 가장 많으면 된다. 그러므로 입력받은 숫자에서 3만큼 빼다가 5의 배수가 된다면 반복문을 종료하면 된다.\n",
    "\n",
    "음수가 된다면 3과 5로도 표현할 수 없는 숫자이므로 -1을 출력하고 아니면 구한 결과를 출력한다."
   ]
  },
  {
   "cell_type": "markdown",
   "metadata": {},
   "source": [
    "![](https://raw.githubusercontent.com/knight7024/Script-Programming-2018-3/master/09-20-3.PNG \"3번\")"
   ]
  },
  {
   "cell_type": "markdown",
   "metadata": {},
   "source": [
    "### 과제 소감 :\n",
    "평소 사용해오던 C언어, 심지어 스크립트 언어인 Ruby와도 문법이 다른 부분이 많고 '모든 것을 레퍼런스 취급하지만 Mutable한 자료형은 따로 있다' 같은 파이썬만의 고유한 특징들 때문에 사용하는데 어려움을 많이 겪었다.\n",
    "\n",
    "다만 모든 구문의 길이가 짧다는 특징때문에 편리하게 사용할 수 있었다."
   ]
  },
  {
   "cell_type": "code",
   "execution_count": null,
   "metadata": {},
   "outputs": [],
   "source": []
  }
 ],
 "metadata": {
  "kernelspec": {
   "display_name": "Python 3",
   "language": "python",
   "name": "python3"
  },
  "language_info": {
   "codemirror_mode": {
    "name": "ipython",
    "version": 3
   },
   "file_extension": ".py",
   "mimetype": "text/x-python",
   "name": "python",
   "nbconvert_exporter": "python",
   "pygments_lexer": "ipython3",
   "version": "3.6.5"
  }
 },
 "nbformat": 4,
 "nbformat_minor": 2
}
